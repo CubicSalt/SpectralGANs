{
 "metadata": {
  "language_info": {
   "codemirror_mode": {
    "name": "ipython",
    "version": 3
   },
   "file_extension": ".py",
   "mimetype": "text/x-python",
   "name": "python",
   "nbconvert_exporter": "python",
   "pygments_lexer": "ipython3",
   "version": "3.7.9-final"
  },
  "orig_nbformat": 2,
  "kernelspec": {
   "name": "python3",
   "display_name": "Python 3",
   "language": "python"
  }
 },
 "nbformat": 4,
 "nbformat_minor": 2,
 "cells": [
  {
   "cell_type": "code",
   "execution_count": 12,
   "metadata": {
    "tags": []
   },
   "outputs": [],
   "source": [
    "import cv2\n",
    "import glob\n",
    "dim = (128, 128)\n",
    "\n",
    "for x, filename in enumerate(glob.glob('./data/DOTA/DOTA256/*')):\n",
    "    # print(filename)\n",
    "    img = cv2.imread(filename)\n",
    "    resized = cv2.resize(img, dim)\n",
    "    # print(\"./data/resized/maps/\" + str(x) + '.png')\n",
    "    cv2.imwrite('./data/resize/' + str(x) + '.png', resized)\n",
    " \n",
    "\n",
    "\n",
    " \n"
   ]
  },
  {
   "cell_type": "code",
   "execution_count": 1,
   "metadata": {},
   "outputs": [],
   "source": [
    "import cv2\n",
    "import glob\n",
    "\n",
    "for x, filename in enumerate(glob.glob('./data/celeba/celeba128/*')):\n",
    "    if x>=8000: break\n",
    "    # print(filename)\n",
    "    img = cv2.imread(filename)\n",
    "    # print(\"./data/resized/maps/\" + str(x) + '.png')\n",
    "    cv2.imwrite('./data/celeba/celeba128_evaluate/' + str(x) + '.png', img)\n",
    " \n",
    "\n",
    "\n",
    " \n"
   ]
  },
  {
   "cell_type": "code",
   "execution_count": null,
   "metadata": {},
   "outputs": [],
   "source": []
  }
 ]
}