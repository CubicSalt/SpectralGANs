{
 "cells": [
  {
   "cell_type": "code",
   "execution_count": 1,
   "metadata": {},
   "outputs": [],
   "source": [
    "import numpy as np\n",
    "from PIL import Image\n",
    "import matplotlib.pyplot as plt\n",
    "import scipy.misc\n",
    "import os\n",
    "\n",
    "\n",
    "img = Image.open('./data/cifar10/cifar1032/cifar10_0007.png')\n",
    "img = np.array(img) / 255.0\n",
    "fil = np.ones((1,1,1))\n",
    "\n",
    "def set_fil(s, r):\n",
    "    global fil\n",
    "    fil = np.ones((s, s, 3))\n",
    "    for i in range(s):\n",
    "        for j in range(s):\n",
    "            if( (i-s//2) * (i-s//2) + (j-s//2)*(j-s//2) < r * r):\n",
    "                fil[i, j, :] = 0\n",
    "\n",
    "def fft(img, low = False):\n",
    "    img_fft = np.fft.fft2(img, axes=(0,1))\n",
    "    img_fft = np.fft.fftshift(img_fft, axes=(0,1))\n",
    "    if(low == True):\n",
    "        img_fft *= 1-fil\n",
    "    else:\n",
    "        img_fft *= fil\n",
    "    img_fft = np.fft.ifftshift(img_fft, axes=(0,1))\n",
    "    img_fft = np.fft.ifft2(img_fft, axes=(0,1))\n",
    "    # img_fft = np.abs(img_fft)  \n",
    "    img_fft = img_fft.real\n",
    "    img_fft = np.clip(img_fft, 0, 1)\n",
    "    \n",
    "    return img_fft\n",
    "\n",
    "def shift(img):\n",
    "    h, w, c = img.shape\n",
    "    x = np.array(range(h))\n",
    "    y = np.array(range(w))\n",
    "\n",
    "    xv, yv = np.meshgrid(x, y, sparse=False, indexing='ij')\n",
    "    xv_flat = np.asarray(xv.flat)\n",
    "    yv_flat = np.asarray(yv.flat)\n",
    "    index = np.full_like(xv_flat, -1)**(xv_flat + yv_flat)\n",
    "    index = index.reshape((h, w, -1))\n",
    "\n",
    "    img_shift = img*index\n",
    "    return img_shift"
   ]
  },
  {
   "cell_type": "code",
   "execution_count": null,
   "metadata": {},
   "outputs": [],
   "source": [
    "import numpy as np\n",
    "from PIL import Image\n",
    "import matplotlib.pyplot as plt\n",
    "import scipy.misc\n",
    "import os\n",
    "from utils import inv_vitualization\n",
    "\n",
    "img1 = Image.open('./Figure1.png')\n",
    "img2 = Image.open('./Figure2.png')\n",
    "img1 = np.array(img1) / 255.0\n",
    "img2 = np.array(img2) / 255.0\n",
    "results, grey = utils.inv_vitualization(img1, img2)\n",
    "scipy.misc.imsave(save_dir + '/' + self.save_model_name + '_inverse_1.png', results[0])\n",
    "scipy.misc.imsave(save_dir + '/' + self.save_model_name + '_inverse_2.png', results[1])\n",
    "scipy.misc.imsave(save_dir + '/' + self.save_model_name + '_inverse_3.png', grey[0])\n",
    "scipy.misc.imsave(save_dir + '/' + self.save_model_name + '_inverse_4.png', grey[1])"
   ]
  },
  {
   "cell_type": "code",
   "execution_count": 2,
   "metadata": {},
   "outputs": [
    {
     "name": "stderr",
     "output_type": "stream",
     "text": [
      "Clipping input data to the valid range for imshow with RGB data ([0..1] for floats or [0..255] for integers).\n"
     ]
    },
    {
     "data": {
      "text/plain": [
       "(<AxesSubplot:>, <matplotlib.image.AxesImage at 0x7f89f7d9dc90>)"
      ]
     },
     "execution_count": 2,
     "metadata": {},
     "output_type": "execute_result"
    },
    {
     "data": {
      "image/png": "[encoded data removed]",
      "text/plain": [
       "<Figure size 432x288 with 4 Axes>"
      ]
     },
     "metadata": {
      "needs_background": "light"
     },
     "output_type": "display_data"
    }
   ],
   "source": [
    "set_fil(32, 8)\n",
    "img_fft_low = fft(img, low = True)\n",
    "img_fft_high = fft(img)\n",
    "img_shift = shift(img)\n",
    "\n",
    "plt.subplot(221), plt.imshow(img)\n",
    "plt.subplot(222), plt.imshow(img_shift)\n",
    "plt.subplot(223), plt.imshow(img_fft_low)\n",
    "plt.subplot(224), plt.imshow(img_fft_high)"
   ]
  },
  {
   "cell_type": "code",
   "execution_count": 3,
   "metadata": {
    "tags": []
   },
   "outputs": [],
   "source": [
    "def shift_image(path, shift_path, times = 10000):\n",
    "    cnt = 0\n",
    "    if not os.path.exists(shift_path):\n",
    "        os.makedirs(shift_path)\n",
    "\n",
    "    for filename in os.listdir(path):\n",
    "        img = Image.open(os.path.join(path, filename))\n",
    "        img = np.array(img) / 255.0\n",
    "        img = shift(img)\n",
    "        scipy.misc.imsave(os.path.join(shift_path, filename), img)\n",
    "        cnt += 1\n",
    "        if(cnt >= times): break\n",
    "\n",
    "\n",
    "def fft_image(path, fft_path, times = 10000):\n",
    "    cnt = 0\n",
    "    if not os.path.exists(fft_path):\n",
    "        os.makedirs(fft_path)\n",
    "\n",
    "    for filename in os.listdir(path):\n",
    "        img = Image.open(os.path.join(path, filename))\n",
    "        img = np.array(img) / 255.0\n",
    "        img = fft(img)\n",
    "\n",
    "        scipy.misc.imsave(os.path.join(fft_path,filename), img)\n",
    "        cnt += 1\n",
    "        if(cnt >= times): break\n",
    "\n",
    "\n",
    "def sample_image(path, save_path, times = 10000):\n",
    "    cnt = 0\n",
    "    if not os.path.exists(save_path):\n",
    "        os.makedirs(save_path)\n",
    "        \n",
    "    for filename in os.listdir(path):\n",
    "        img = Image.open(os.path.join(path, filename))\n",
    "        img = np.array(img) / 255.0\n",
    "        scipy.misc.imsave(os.path.join(save_path, filename), img)\n",
    "        cnt += 1\n",
    "        if(cnt >= times): break"
   ]
  },
  {
   "cell_type": "code",
   "execution_count": 4,
   "metadata": {},
   "outputs": [
    {
     "name": "stderr",
     "output_type": "stream",
     "text": [
      "/home/zhangdongyu/anaconda3/envs/GAN/lib/python3.7/site-packages/ipykernel_launcher.py:38: DeprecationWarning:     `imsave` is deprecated!\n",
      "    `imsave` is deprecated in SciPy 1.0.0, and will be removed in 1.2.0.\n",
      "    Use ``imageio.imwrite`` instead.\n"
     ]
    }
   ],
   "source": [
    "sample_image('./data/cifar10/cifar1032/', './data/cifar10/cifar1032_evaluate')\n",
    "sample_image('./data/celeba/celeba64/', './data/celeba/celeba64_evaluate')\n",
    "sample_image('./data/lsun/church_outdoor128/', './data/lsun/church_outdoor128_evaluate')"
   ]
  },
  {
   "cell_type": "code",
   "execution_count": 5,
   "metadata": {},
   "outputs": [],
   "source": [
    "# set_fil(input_size, radius)\n",
    "# set_fil(128, 1)\n",
    "# fft_image('./data/lsun/church_outdoor128/', './data/lsun/church_outdoor128_R1/')\n",
    "# fft_image('./results_deconv/unshift/lsun-church_outdoor/DCGAN_128_100_evaluate/', \n",
    "#           './results_deconv/unshift/lsun-church_outdoor/DCGAN_128_100_evaluate_R1/')\n",
    "# fft_image('./results_deconv/unshift/lsun-church_outdoor/DRAGAN_128_100_evaluate/', \n",
    "#           './results_deconv/unshift/lsun-church_outdoor/DRAGAN_128_100_evaluate_R1/')\n",
    "# fft_image('./results_deconv/unshift/lsun-church_outdoor/LSGAN_128_50_evaluate/', \n",
    "#           './results_deconv/unshift/lsun-church_outdoor/LSGAN_128_50_evaluate_R1/')\n",
    "# fft_image('./results_deconv/unshift/lsun-church_outdoor/WGAN_GP_128_100_evaluate/', \n",
    "#           './results_deconv/unshift/lsun-church_outdoor/WGAN_GP_128_100_evaluate_R1/')"
   ]
  },
  {
   "cell_type": "code",
   "execution_count": 6,
   "metadata": {},
   "outputs": [],
   "source": [
    "# set_fil(128, 2)\n",
    "# fft_image('./data/lsun/church_outdoor128/', './data/lsun/church_outdoor128_R2/')\n",
    "# fft_image('./results_deconv/unshift/lsun-church_outdoor/DCGAN_128_100_evaluate/', \n",
    "#           './results_deconv/unshift/lsun-church_outdoor/DCGAN_128_100_evaluate_R2/')\n",
    "# fft_image('./results_deconv/unshift/lsun-church_outdoor/DRAGAN_128_100_evaluate/', \n",
    "#           './results_deconv/unshift/lsun-church_outdoor/DRAGAN_128_100_evaluate_R2/')\n",
    "# fft_image('./results_deconv/unshift/lsun-church_outdoor/LSGAN_128_50_evaluate/', \n",
    "#           './results_deconv/unshift/lsun-church_outdoor/LSGAN_128_50_evaluate_R2/')\n",
    "# fft_image('./results_deconv/unshift/lsun-church_outdoor/WGAN_GP_128_100_evaluate/', \n",
    "#           './results_deconv/unshift/lsun-church_outdoor/WGAN_GP_128_100_evaluate_R2/')"
   ]
  },
  {
   "cell_type": "code",
   "execution_count": 7,
   "metadata": {},
   "outputs": [],
   "source": [
    "# set_fil(128, 4)\n",
    "# fft_image('./data/lsun/church_outdoor128/', './data/lsun/church_outdoor128_R4/')\n",
    "# fft_image('./results_deconv/unshift/lsun-church_outdoor/DCGAN_128_100_evaluate/', \n",
    "#           './results_deconv/unshift/lsun-church_outdoor/DCGAN_128_100_evaluate_R4/')\n",
    "# fft_image('./results_deconv/unshift/lsun-church_outdoor/DRAGAN_128_100_evaluate/', \n",
    "#           './results_deconv/unshift/lsun-church_outdoor/DRAGAN_128_100_evaluate_R4/')\n",
    "# fft_image('./results_deconv/unshift/lsun-church_outdoor/LSGAN_128_50_evaluate/', \n",
    "#           './results_deconv/unshift/lsun-church_outdoor/LSGAN_128_50_evaluate_R4/')\n",
    "# fft_image('./results_deconv/unshift/lsun-church_outdoor/WGAN_GP_128_100_evaluate/', \n",
    "#           './results_deconv/unshift/lsun-church_outdoor/WGAN_GP_128_100_evaluate_R4/')"
   ]
  },
  {
   "cell_type": "code",
   "execution_count": 8,
   "metadata": {},
   "outputs": [],
   "source": [
    "# set_fil(128, 8)\n",
    "# fft_image('./data/lsun/church_outdoor128/', './data/lsun/church_outdoor128_R8/')\n",
    "# fft_image('./results_deconv/unshift/lsun-church_outdoor/DCGAN_128_100_evaluate/', \n",
    "#           './results_deconv/unshift/lsun-church_outdoor/DCGAN_128_100_evaluate_R8/')\n",
    "# fft_image('./results_deconv/unshift/lsun-church_outdoor/DRAGAN_128_100_evaluate/', \n",
    "#           './results_deconv/unshift/lsun-church_outdoor/DRAGAN_128_100_evaluate_R8/')\n",
    "# fft_image('./results_deconv/unshift/lsun-church_outdoor/LSGAN_128_50_evaluate/', \n",
    "#           './results_deconv/unshift/lsun-church_outdoor/LSGAN_128_50_evaluate_R8/')\n",
    "# fft_image('./results_deconv/unshift/lsun-church_outdoor/WGAN_GP_128_100_evaluate/', \n",
    "#           './results_deconv/unshift/lsun-church_outdoor/WGAN_GP_128_100_evaluate_R8/')"
   ]
  },
  {
   "cell_type": "code",
   "execution_count": 9,
   "metadata": {},
   "outputs": [],
   "source": [
    "# set_fil(128, 12)\n",
    "# fft_image('./data/lsun/church_outdoor128/', './data/lsun/church_outdoor128_R12/')\n",
    "# fft_image('./results_deconv/unshift/lsun-church_outdoor/DCGAN_128_100_evaluate/', \n",
    "#           './results_deconv/unshift/lsun-church_outdoor/DCGAN_128_100_evaluate_R12/')\n",
    "# fft_image('./results_deconv/unshift/lsun-church_outdoor/DRAGAN_128_100_evaluate/', \n",
    "#           './results_deconv/unshift/lsun-church_outdoor/DRAGAN_128_100_evaluate_R12/')\n",
    "# fft_image('./results_deconv/unshift/lsun-church_outdoor/LSGAN_128_50_evaluate/', \n",
    "#           './results_deconv/unshift/lsun-church_outdoor/LSGAN_128_50_evaluate_R12/')\n",
    "# fft_image('./results_deconv/unshift/lsun-church_outdoor/WGAN_GP_128_100_evaluate/', \n",
    "#           './results_deconv/unshift/lsun-church_outdoor/WGAN_GP_128_100_evaluate_R12/')"
   ]
  },
  {
   "cell_type": "code",
   "execution_count": 10,
   "metadata": {},
   "outputs": [],
   "source": [
    "# set_fil(128, 16)\n",
    "# fft_image('./data/lsun/church_outdoor128/', './data/lsun/church_outdoor128_R16/')\n",
    "# fft_image('./results_deconv/unshift/lsun-church_outdoor/DCGAN_128_100_evaluate/', \n",
    "#           './results_deconv/unshift/lsun-church_outdoor/DCGAN_128_100_evaluate_R16/')\n",
    "# fft_image('./results_deconv/unshift/lsun-church_outdoor/DRAGAN_128_100_evaluate/', \n",
    "#           './results_deconv/unshift/lsun-church_outdoor/DRAGAN_128_100_evaluate_R16/')\n",
    "# fft_image('./results_deconv/unshift/lsun-church_outdoor/LSGAN_128_50_evaluate/', \n",
    "#           './results_deconv/unshift/lsun-church_outdoor/LSGAN_128_50_evaluate_R16/')\n",
    "# fft_image('./results_deconv/unshift/lsun-church_outdoor/WGAN_GP_128_100_evaluate/', \n",
    "#           './results_deconv/unshift/lsun-church_outdoor/WGAN_GP_128_100_evaluate_R16/')"
   ]
  }
 ],
 "metadata": {
  "kernelspec": {
   "display_name": "Python 3",
   "language": "python",
   "name": "python3"
  },
  "language_info": {
   "codemirror_mode": {
    "name": "ipython",
    "version": 3
   },
   "file_extension": ".py",
   "mimetype": "text/x-python",
   "name": "python",
   "nbconvert_exporter": "python",
   "pygments_lexer": "ipython3",
   "version": "3.7.9"
  }
 },
 "nbformat": 4,
 "nbformat_minor": 2
}
